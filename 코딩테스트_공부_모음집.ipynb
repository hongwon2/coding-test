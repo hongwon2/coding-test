{
  "nbformat": 4,
  "nbformat_minor": 0,
  "metadata": {
    "colab": {
      "name": "코딩테스트 공부 모음집.ipynb",
      "provenance": [],
      "collapsed_sections": [
        "6tcyC-Yp5rgm",
        "Y0BkbJTa52ip",
        "Asr7dLahFceH",
        "obrfRpXCGEgv",
        "vdME4s26zu8U",
        "ikFoSPNpzz-l",
        "81BdDI2YFzKs"
      ],
      "authorship_tag": "ABX9TyOtekEri53lFkB48NjJAtSD",
      "include_colab_link": true
    },
    "kernelspec": {
      "name": "python3",
      "display_name": "Python 3"
    },
    "language_info": {
      "name": "python"
    }
  },
  "cells": [
    {
      "cell_type": "markdown",
      "metadata": {
        "id": "view-in-github",
        "colab_type": "text"
      },
      "source": [
        "<a href=\"https://colab.research.google.com/github/hongwon2/coding-test/blob/main/%EC%BD%94%EB%94%A9%ED%85%8C%EC%8A%A4%ED%8A%B8_%EA%B3%B5%EB%B6%80_%EB%AA%A8%EC%9D%8C%EC%A7%91.ipynb\" target=\"_parent\"><img src=\"https://colab.research.google.com/assets/colab-badge.svg\" alt=\"Open In Colab\"/></a>"
      ]
    },
    {
      "cell_type": "markdown",
      "source": [
        "# 2022/06/28 "
      ],
      "metadata": {
        "id": "6tcyC-Yp5rgm"
      }
    },
    {
      "cell_type": "markdown",
      "source": [
        "### Python"
      ],
      "metadata": {
        "id": "Y0BkbJTa52ip"
      }
    },
    {
      "cell_type": "markdown",
      "source": [
        "- https://www.acmicpc.net/problem/2588"
      ],
      "metadata": {
        "id": "Hk3lAGNW5-Go"
      }
    },
    {
      "cell_type": "code",
      "execution_count": null,
      "metadata": {
        "colab": {
          "base_uri": "https://localhost:8080/"
        },
        "id": "LBZdukS-5oRN",
        "outputId": "37543f3a-f8b0-4de0-8d38-3b0398eedb50"
      },
      "outputs": [
        {
          "output_type": "stream",
          "name": "stdout",
          "text": [
            "123\n",
            "456\n",
            "738\n",
            "615\n",
            "492\n",
            "56088\n"
          ]
        }
      ],
      "source": [
        "a = int(input())\n",
        "b = input()\n",
        "\n",
        "a1 = a * int(b[2])\n",
        "a2 = a * int(b[1])\n",
        "a3 = a * int(b[0])\n",
        "a4 = a * int(b)\n",
        "\n",
        "print (a1, a2, a3, a4, sep='\\n')"
      ]
    },
    {
      "cell_type": "markdown",
      "source": [
        "## SQL"
      ],
      "metadata": {
        "id": "WCiPhYp464Qg"
      }
    },
    {
      "cell_type": "markdown",
      "source": [
        "- https://solvesql.com/problems/multiple-medalist/"
      ],
      "metadata": {
        "id": "WBCgd8bq68tD"
      }
    },
    {
      "cell_type": "code",
      "source": [
        "SELECT *\n",
        "FROM records r LEFT JOIN teams t ON r.team_id = t.id\n",
        "               LEFT JOIN athletes a ON r.athlete_id = a.id\n",
        "               LEFT JOIN games g ON r.game_id = g.id\n",
        "WHERE g.year >= 2000 AND r.medal IS NOT NULL\n",
        "GROUP BY athlete_id\n",
        "HAVING COUNT(distinct team) > 1"
      ],
      "metadata": {
        "id": "8DrjGSQb6qOG"
      },
      "execution_count": null,
      "outputs": []
    },
    {
      "cell_type": "markdown",
      "source": [
        "# 2022/06/29"
      ],
      "metadata": {
        "id": "Asr7dLahFceH"
      }
    },
    {
      "cell_type": "markdown",
      "source": [
        "## Python"
      ],
      "metadata": {
        "id": "obrfRpXCGEgv"
      }
    },
    {
      "cell_type": "markdown",
      "source": [
        "- [알람시계](https://ooyoung.tistory.com/28)"
      ],
      "metadata": {
        "id": "BeJT_Er4GOvF"
      }
    },
    {
      "cell_type": "code",
      "source": [
        "H, M = map(int, input().split())\n",
        "\n",
        "if M < 45 :\t# 분단위가 45분보다 작을 때 \n",
        "    if H == 0 :\t# 0 시이면\n",
        "        H = 23\n",
        "        M += 60\n",
        "    else :\t# 0시가 아니면 (0시보다 크면)\n",
        "        H -= 1\t\n",
        "        M += 60\n",
        "        \n",
        "print(H, M-45)\t"
      ],
      "metadata": {
        "id": "eNie00AtHak7"
      },
      "execution_count": null,
      "outputs": []
    },
    {
      "cell_type": "markdown",
      "source": [
        "- [오븐시계](https://www.acmicpc.net/problem/2525)"
      ],
      "metadata": {
        "id": "5i4fsVfMHjD0"
      }
    },
    {
      "cell_type": "code",
      "source": [
        "H, M = map(int, input().split())\n",
        "timer = int(input()) \n",
        "\n",
        "H += timer // 60\n",
        "M += timer % 60\n",
        "\n",
        "if M >= 60:\n",
        "    H += 1\n",
        "    M -= 60\n",
        "if H >= 24:\n",
        "    H -= 24\n",
        "\n",
        "print(H,M)"
      ],
      "metadata": {
        "id": "PgWL_PSQHq5v"
      },
      "execution_count": null,
      "outputs": []
    },
    {
      "cell_type": "markdown",
      "source": [
        "## SQL"
      ],
      "metadata": {
        "id": "Bcxlb9IBFhzB"
      }
    },
    {
      "cell_type": "markdown",
      "source": [
        "- [복수 국적의 수상한 선수 찾기](https://solvesql.com/problems/multiple-medalist/)"
      ],
      "metadata": {
        "id": "k83buW8YFpkK"
      }
    },
    {
      "cell_type": "code",
      "source": [
        "select\n",
        "  a.name\n",
        "from\n",
        "  records as r\n",
        "  left join athletes as a on r.athlete_id = a.id\n",
        "  left join games as g on r.game_id = g.id\n",
        "  left join teams as t on r.team_id = t.id\n",
        "where\n",
        "  g.year >= 2000\n",
        "  and r.medal is not null\n",
        "group by athlete_id\n",
        "having count(distinct team) >= 2\n",
        "order by name\n"
      ],
      "metadata": {
        "id": "TqYi0JJlF_Of"
      },
      "execution_count": null,
      "outputs": []
    },
    {
      "cell_type": "markdown",
      "source": [
        "- [할부는 몇 개월로 해드릴까요](https://solvesql.com/problems/installment-month/)"
      ],
      "metadata": {
        "id": "xzjJ7qcMFnOO"
      }
    },
    {
      "cell_type": "code",
      "source": [
        "select payment_installments,\n",
        "       count(distinct order_id) as order_count,\n",
        "       min(payment_value) as min_value,\n",
        "       max(payment_value) as max_value,\n",
        "       avg(payment_value) as avg_value\n",
        "from olist_order_payments_dataset\n",
        "where payment_type = 'credit_card'\n",
        "group by payment_installments"
      ],
      "metadata": {
        "id": "TSPWKDDlGKYk"
      },
      "execution_count": null,
      "outputs": []
    },
    {
      "cell_type": "markdown",
      "source": [
        "# 2022/06/30"
      ],
      "metadata": {
        "id": "vdME4s26zu8U"
      }
    },
    {
      "cell_type": "markdown",
      "source": [
        "## Python"
      ],
      "metadata": {
        "id": "ikFoSPNpzz-l"
      }
    },
    {
      "cell_type": "markdown",
      "source": [
        "- [X보다 작은 수](https://www.acmicpc.net/problem/10871)"
      ],
      "metadata": {
        "id": "KTTtHFVXz24D"
      }
    },
    {
      "cell_type": "code",
      "source": [
        "N,X = map(int,input().split())\n",
        "A = list(map(int,input().split()))\n",
        "for i in range(N):\n",
        "  if A[i] < X :\n",
        "    print(A[i], end = \" \")"
      ],
      "metadata": {
        "id": "YlH4e5Adzy7q"
      },
      "execution_count": null,
      "outputs": []
    },
    {
      "cell_type": "markdown",
      "source": [
        "- [별찍기 2](https://www.acmicpc.net/problem/2439)"
      ],
      "metadata": {
        "id": "IP3NUoiOz92l"
      }
    },
    {
      "cell_type": "code",
      "source": [
        "T = int(input())\n",
        "\n",
        "for i in range(T):\n",
        "    print(\" \" * (T - i) + \"*\" * i)"
      ],
      "metadata": {
        "id": "WUIrjUhF0D5H"
      },
      "execution_count": null,
      "outputs": []
    },
    {
      "cell_type": "markdown",
      "source": [
        "## SQL"
      ],
      "metadata": {
        "id": "81BdDI2YFzKs"
      }
    },
    {
      "cell_type": "markdown",
      "source": [
        "- [가구 판매의 비중이 높았던 날 찾기](https://solvesql.com/problems/day-of-furniture/)"
      ],
      "metadata": {
        "id": "t-BThd23F1Si"
      }
    },
    {
      "cell_type": "code",
      "source": [
        "SELECT\n",
        "  order_date,\n",
        "  count(distinct CASE\n",
        "      WHEN category = 'Furniture' THEN order_id\n",
        "    END) AS furniture,\n",
        "  round((((count(\n",
        "            distinct CASE\n",
        "              WHEN category = 'Furniture' THEN order_id\n",
        "            END) + 0.00) / (count(distinct order_id)) + 0.00) * 100),2) AS furniture_pct\n",
        "FROM\n",
        "  records\n",
        "GROUP BY\n",
        "  order_date\n",
        "HAVING\n",
        "  count(distinct order_id) >= 10\n",
        "  and furniture_pct >= 40\n",
        "ORDER BY\n",
        "  furniture desc,\n",
        "  order_date desc"
      ],
      "metadata": {
        "id": "GJDP32GxF0om"
      },
      "execution_count": null,
      "outputs": []
    },
    {
      "cell_type": "markdown",
      "source": [
        "- [일별 블로그 방문자 수 집계](https://solvesql.com/problems/blog-counter/)"
      ],
      "metadata": {
        "id": "hk8XWwleGWr8"
      }
    },
    {
      "cell_type": "code",
      "source": [
        "select\n",
        "  event_date_kst as dt,\n",
        "  count(distinct user_pseudo_id) as users\n",
        "from\n",
        "  ga\n",
        "where\n",
        "  event_date_kst >= '2021-08-02'\n",
        "  and event_date_kst <= '2021-08-09'\n",
        "group by dt\n",
        "order by dt"
      ],
      "metadata": {
        "id": "PaWHdsFXGfbC"
      },
      "execution_count": null,
      "outputs": []
    },
    {
      "cell_type": "markdown",
      "source": [
        "# 2022/07/01"
      ],
      "metadata": {
        "id": "VU8Gh5jjTo37"
      }
    },
    {
      "cell_type": "markdown",
      "source": [
        "## Python"
      ],
      "metadata": {
        "id": "Od3NWaTWTsew"
      }
    },
    {
      "cell_type": "markdown",
      "source": [
        "- [나머지](https://pacific-ocean.tistory.com/35?category=810810)"
      ],
      "metadata": {
        "id": "m5vgwz0eTuSv"
      }
    },
    {
      "cell_type": "code",
      "source": [
        "array = []\n",
        "for i in range(10):\n",
        "    n = int(input())\n",
        "    array.append(n%42)\n",
        "array = set(array)\n",
        "print(len(array))"
      ],
      "metadata": {
        "id": "D20mv8ugTrrf"
      },
      "execution_count": null,
      "outputs": []
    },
    {
      "cell_type": "markdown",
      "source": [
        "- [ox퀴즈](https://www.acmicpc.net/problem/8958)"
      ],
      "metadata": {
        "id": "9KI1cI47T0Jc"
      }
    },
    {
      "cell_type": "code",
      "source": [
        "n = int(input())\n",
        "\n",
        "for _ in range(n):\n",
        "  ox_list = list(input())\n",
        "  score = 0\n",
        "  sum_score = 0\n",
        "  for ox in ox_list:\n",
        "    if ox == 'O':\n",
        "      score += 1\n",
        "      sum_score += score\n",
        "    else:\n",
        "      score = 0\n",
        "  print(sum_score)"
      ],
      "metadata": {
        "id": "1C-WoNb_kxIx"
      },
      "execution_count": null,
      "outputs": []
    },
    {
      "cell_type": "markdown",
      "source": [
        "- [평균은 넘겠지](https://www.acmicpc.net/problem/4344)"
      ],
      "metadata": {
        "id": "XXwZZqwAqRuF"
      }
    },
    {
      "cell_type": "code",
      "source": [
        "n = int(input())\n",
        "\n",
        "for _ in range(n):\n",
        "    nums = list(map(int, input().split()))\n",
        "    avg = sum(nums[1:])/nums[0]  # 평균을 구함 (nums[0]: 학생수, nums[1:] 점수)\n",
        "    cnt = 0\n",
        "    for score in nums[1:]:\n",
        "        if score > avg:\n",
        "            cnt += 1  # 평균 이상인 학생 수\n",
        "    rate = cnt/nums[0] *100\n",
        "    print(f'{rate:.3f}%')"
      ],
      "metadata": {
        "id": "He30bJdyqSCk"
      },
      "execution_count": null,
      "outputs": []
    },
    {
      "cell_type": "markdown",
      "source": [
        "## SQL"
      ],
      "metadata": {
        "id": "tGr_2lVYqcJP"
      }
    },
    {
      "cell_type": "code",
      "source": [
        ""
      ],
      "metadata": {
        "id": "PRyywDxbqeSN"
      },
      "execution_count": null,
      "outputs": []
    }
  ]
}