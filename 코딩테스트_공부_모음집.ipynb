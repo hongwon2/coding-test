{
  "nbformat": 4,
  "nbformat_minor": 0,
  "metadata": {
    "colab": {
      "name": "코딩테스트 공부 모음집.ipynb",
      "provenance": [],
      "collapsed_sections": [
        "Y0BkbJTa52ip",
        "WCiPhYp464Qg"
      ],
      "authorship_tag": "ABX9TyPWrjRNo8MoGpmIWfTF684J",
      "include_colab_link": true
    },
    "kernelspec": {
      "name": "python3",
      "display_name": "Python 3"
    },
    "language_info": {
      "name": "python"
    }
  },
  "cells": [
    {
      "cell_type": "markdown",
      "metadata": {
        "id": "view-in-github",
        "colab_type": "text"
      },
      "source": [
        "<a href=\"https://colab.research.google.com/github/hongwon2/coding-test/blob/main/%EC%BD%94%EB%94%A9%ED%85%8C%EC%8A%A4%ED%8A%B8_%EA%B3%B5%EB%B6%80_%EB%AA%A8%EC%9D%8C%EC%A7%91.ipynb\" target=\"_parent\"><img src=\"https://colab.research.google.com/assets/colab-badge.svg\" alt=\"Open In Colab\"/></a>"
      ]
    },
    {
      "cell_type": "markdown",
      "source": [
        "# 2022/06/28 "
      ],
      "metadata": {
        "id": "6tcyC-Yp5rgm"
      }
    },
    {
      "cell_type": "markdown",
      "source": [
        "### Python"
      ],
      "metadata": {
        "id": "Y0BkbJTa52ip"
      }
    },
    {
      "cell_type": "markdown",
      "source": [
        "- https://www.acmicpc.net/problem/2588"
      ],
      "metadata": {
        "id": "Hk3lAGNW5-Go"
      }
    },
    {
      "cell_type": "code",
      "execution_count": null,
      "metadata": {
        "colab": {
          "base_uri": "https://localhost:8080/"
        },
        "id": "LBZdukS-5oRN",
        "outputId": "37543f3a-f8b0-4de0-8d38-3b0398eedb50"
      },
      "outputs": [
        {
          "output_type": "stream",
          "name": "stdout",
          "text": [
            "123\n",
            "456\n",
            "738\n",
            "615\n",
            "492\n",
            "56088\n"
          ]
        }
      ],
      "source": [
        "a = int(input())\n",
        "b = input()\n",
        "\n",
        "a1 = a * int(b[2])\n",
        "a2 = a * int(b[1])\n",
        "a3 = a * int(b[0])\n",
        "a4 = a * int(b)\n",
        "\n",
        "print (a1, a2, a3, a4, sep='\\n')"
      ]
    },
    {
      "cell_type": "markdown",
      "source": [
        "## SQL"
      ],
      "metadata": {
        "id": "WCiPhYp464Qg"
      }
    },
    {
      "cell_type": "markdown",
      "source": [
        "- https://solvesql.com/problems/multiple-medalist/"
      ],
      "metadata": {
        "id": "WBCgd8bq68tD"
      }
    },
    {
      "cell_type": "code",
      "source": [
        "SELECT *\n",
        "FROM records r LEFT JOIN teams t ON r.team_id = t.id\n",
        "               LEFT JOIN athletes a ON r.athlete_id = a.id\n",
        "               LEFT JOIN games g ON r.game_id = g.id\n",
        "WHERE g.year >= 2000 AND r.medal IS NOT NULL\n",
        "GROUP BY athlete_id\n",
        "HAVING COUNT(distinct team) > 1"
      ],
      "metadata": {
        "id": "8DrjGSQb6qOG"
      },
      "execution_count": null,
      "outputs": []
    }
  ]
}