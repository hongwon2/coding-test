{
  "nbformat": 4,
  "nbformat_minor": 0,
  "metadata": {
    "colab": {
      "name": "코딩테스트 공부 모음집.ipynb",
      "provenance": [],
      "collapsed_sections": [
        "6tcyC-Yp5rgm",
        "Y0BkbJTa52ip",
        "Asr7dLahFceH",
        "obrfRpXCGEgv",
        "Bcxlb9IBFhzB"
      ],
      "authorship_tag": "ABX9TyMIBPmiUBeFz51iBA8r8Ib7",
      "include_colab_link": true
    },
    "kernelspec": {
      "name": "python3",
      "display_name": "Python 3"
    },
    "language_info": {
      "name": "python"
    }
  },
  "cells": [
    {
      "cell_type": "markdown",
      "metadata": {
        "id": "view-in-github",
        "colab_type": "text"
      },
      "source": [
        "<a href=\"https://colab.research.google.com/github/hongwon2/coding-test/blob/main/%EC%BD%94%EB%94%A9%ED%85%8C%EC%8A%A4%ED%8A%B8_%EA%B3%B5%EB%B6%80_%EB%AA%A8%EC%9D%8C%EC%A7%91.ipynb\" target=\"_parent\"><img src=\"https://colab.research.google.com/assets/colab-badge.svg\" alt=\"Open In Colab\"/></a>"
      ]
    },
    {
      "cell_type": "markdown",
      "source": [
        "# 2022/06/28 "
      ],
      "metadata": {
        "id": "6tcyC-Yp5rgm"
      }
    },
    {
      "cell_type": "markdown",
      "source": [
        "### Python"
      ],
      "metadata": {
        "id": "Y0BkbJTa52ip"
      }
    },
    {
      "cell_type": "markdown",
      "source": [
        "- https://www.acmicpc.net/problem/2588"
      ],
      "metadata": {
        "id": "Hk3lAGNW5-Go"
      }
    },
    {
      "cell_type": "code",
      "execution_count": null,
      "metadata": {
        "colab": {
          "base_uri": "https://localhost:8080/"
        },
        "id": "LBZdukS-5oRN",
        "outputId": "37543f3a-f8b0-4de0-8d38-3b0398eedb50"
      },
      "outputs": [
        {
          "output_type": "stream",
          "name": "stdout",
          "text": [
            "123\n",
            "456\n",
            "738\n",
            "615\n",
            "492\n",
            "56088\n"
          ]
        }
      ],
      "source": [
        "a = int(input())\n",
        "b = input()\n",
        "\n",
        "a1 = a * int(b[2])\n",
        "a2 = a * int(b[1])\n",
        "a3 = a * int(b[0])\n",
        "a4 = a * int(b)\n",
        "\n",
        "print (a1, a2, a3, a4, sep='\\n')"
      ]
    },
    {
      "cell_type": "markdown",
      "source": [
        "## SQL"
      ],
      "metadata": {
        "id": "WCiPhYp464Qg"
      }
    },
    {
      "cell_type": "markdown",
      "source": [
        "- https://solvesql.com/problems/multiple-medalist/"
      ],
      "metadata": {
        "id": "WBCgd8bq68tD"
      }
    },
    {
      "cell_type": "code",
      "source": [
        "SELECT *\n",
        "FROM records r LEFT JOIN teams t ON r.team_id = t.id\n",
        "               LEFT JOIN athletes a ON r.athlete_id = a.id\n",
        "               LEFT JOIN games g ON r.game_id = g.id\n",
        "WHERE g.year >= 2000 AND r.medal IS NOT NULL\n",
        "GROUP BY athlete_id\n",
        "HAVING COUNT(distinct team) > 1"
      ],
      "metadata": {
        "id": "8DrjGSQb6qOG"
      },
      "execution_count": null,
      "outputs": []
    },
    {
      "cell_type": "markdown",
      "source": [
        "# 2022/06/29"
      ],
      "metadata": {
        "id": "Asr7dLahFceH"
      }
    },
    {
      "cell_type": "markdown",
      "source": [
        "## Python"
      ],
      "metadata": {
        "id": "obrfRpXCGEgv"
      }
    },
    {
      "cell_type": "markdown",
      "source": [
        "- [알람시계](https://ooyoung.tistory.com/28)"
      ],
      "metadata": {
        "id": "BeJT_Er4GOvF"
      }
    },
    {
      "cell_type": "code",
      "source": [
        "H, M = map(int, input().split())\n",
        "\n",
        "if M < 45 :\t# 분단위가 45분보다 작을 때 \n",
        "    if H == 0 :\t# 0 시이면\n",
        "        H = 23\n",
        "        M += 60\n",
        "    else :\t# 0시가 아니면 (0시보다 크면)\n",
        "        H -= 1\t\n",
        "        M += 60\n",
        "        \n",
        "print(H, M-45)\t"
      ],
      "metadata": {
        "id": "eNie00AtHak7"
      },
      "execution_count": null,
      "outputs": []
    },
    {
      "cell_type": "markdown",
      "source": [
        "- [오븐시계](https://www.acmicpc.net/problem/2525)"
      ],
      "metadata": {
        "id": "5i4fsVfMHjD0"
      }
    },
    {
      "cell_type": "code",
      "source": [
        "H, M = map(int, input().split())\n",
        "timer = int(input()) \n",
        "\n",
        "H += timer // 60\n",
        "M += timer % 60\n",
        "\n",
        "if M >= 60:\n",
        "    H += 1\n",
        "    M -= 60\n",
        "if H >= 24:\n",
        "    H -= 24\n",
        "\n",
        "print(H,M)"
      ],
      "metadata": {
        "id": "PgWL_PSQHq5v"
      },
      "execution_count": null,
      "outputs": []
    },
    {
      "cell_type": "markdown",
      "source": [
        "## SQL"
      ],
      "metadata": {
        "id": "Bcxlb9IBFhzB"
      }
    },
    {
      "cell_type": "markdown",
      "source": [
        "- [복수 국적의 수상한 선수 찾기](https://solvesql.com/problems/multiple-medalist/)"
      ],
      "metadata": {
        "id": "k83buW8YFpkK"
      }
    },
    {
      "cell_type": "code",
      "source": [
        "select\n",
        "  a.name\n",
        "from\n",
        "  records as r\n",
        "  left join athletes as a on r.athlete_id = a.id\n",
        "  left join games as g on r.game_id = g.id\n",
        "  left join teams as t on r.team_id = t.id\n",
        "where\n",
        "  g.year >= 2000\n",
        "  and r.medal is not null\n",
        "group by athlete_id\n",
        "having count(distinct team) >= 2\n",
        "order by name\n"
      ],
      "metadata": {
        "id": "TqYi0JJlF_Of"
      },
      "execution_count": null,
      "outputs": []
    },
    {
      "cell_type": "markdown",
      "source": [
        "- [할부는 몇 개월로 해드릴까요](https://solvesql.com/problems/installment-month/)"
      ],
      "metadata": {
        "id": "xzjJ7qcMFnOO"
      }
    },
    {
      "cell_type": "code",
      "source": [
        "select payment_installments,\n",
        "       count(distinct order_id) as order_count,\n",
        "       min(payment_value) as min_value,\n",
        "       max(payment_value) as max_value,\n",
        "       avg(payment_value) as avg_value\n",
        "from olist_order_payments_dataset\n",
        "where payment_type = 'credit_card'\n",
        "group by payment_installments"
      ],
      "metadata": {
        "id": "TSPWKDDlGKYk"
      },
      "execution_count": null,
      "outputs": []
    }
  ]
}